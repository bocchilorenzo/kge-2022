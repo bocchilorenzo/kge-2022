{
 "cells": [
  {
   "cell_type": "code",
   "execution_count": 13,
   "metadata": {},
   "outputs": [],
   "source": [
    "from requests import request\n",
    "import json\n",
    "from os import makedirs, path\n",
    "from geopy.geocoders import Nominatim"
   ]
  },
  {
   "cell_type": "code",
   "execution_count": 3,
   "metadata": {},
   "outputs": [],
   "source": [
    "with open(\"../datasets/original/organization_en.json\", 'r') as fp:\n",
    "    dep_data = json.load(fp)"
   ]
  },
  {
   "cell_type": "code",
   "execution_count": 11,
   "metadata": {},
   "outputs": [],
   "source": [
    "def save_dataset(dataset, name, file_format):\n",
    "    \"\"\"\n",
    "    Save the dataset given in input\n",
    "\n",
    "    :param dataset: Dataset to save\n",
    "    :param name: Name of the dataset\n",
    "    :param file_format: Format the dataset should be saved in\n",
    "    \"\"\"\n",
    "    filename = f'../datasets/{name}.{file_format}'\n",
    "    makedirs(path.dirname(filename), exist_ok=True)\n",
    "    with open(filename, 'w', encoding='utf-8') as f:\n",
    "        if file_format == 'json':\n",
    "            json.dump(dataset, f, indent=2)\n",
    "\n",
    "def set_total_size(dataset):\n",
    "    \"\"\"\n",
    "    Sets the values of the 'total' and 'size' fields in a dictionary\n",
    "\n",
    "    :param dataset: Dataset to manipulate\n",
    "    \"\"\"\n",
    "    dataset['value']['total'] = len(dataset['value']['data'])\n",
    "    dataset['value']['size'] = len(dataset['value']['data'])\n",
    "\n",
    "def get_address_information(address):\n",
    "    \"\"\"\n",
    "    Fetch and return the address information from OpenStreetMap\n",
    "\n",
    "    :param address: Address to look up in OSM\n",
    "    :return: Dictionary with the information for the input address\n",
    "    \"\"\"\n",
    "    # Check the Nominatim TOS before using this, it allows maximum 1 request per second\n",
    "    # https://operations.osmfoundation.org/policies/nominatim/\n",
    "    # Also check the OSM wiki regarding the API\n",
    "    # https://wiki.openstreetmap.org/wiki/API_v0.6\n",
    "    geolocator = Nominatim(\n",
    "        user_agent=\"Mozilla/5.0 (Windows NT 10.0; rv:105.0) Gecko/20100101 Firefox/105.0\")\n",
    "    query = geolocator.geocode(query=address)\n",
    "    if query:\n",
    "        r = request('get', f\"https://www.openstreetmap.org/api/0.6/way/{query.raw.get('osm_id')}.json\", headers={\n",
    "            'User-Agent': 'Mozilla/5.0 (Windows NT 10.0; rv:106.0) Gecko/20100101 Firefox/106.0'})\n",
    "        if r.ok:\n",
    "            return json.loads(r.text)\n",
    "        else:\n",
    "            return {}\n",
    "    else:\n",
    "        return {}\n",
    "\n",
    "def append_data(dataset, to_append):\n",
    "    \"\"\"\n",
    "    Utility function to mask away some code and make it more readable\n",
    "\n",
    "    :param dataset: Dataset to append data to\n",
    "    :param to_append: Data to append\n",
    "    \"\"\"\n",
    "    dataset['value']['data'].append(to_append)"
   ]
  },
  {
   "cell_type": "code",
   "execution_count": 14,
   "metadata": {},
   "outputs": [],
   "source": [
    "addresses = set()\n",
    "for organization in dep_data['value']['data']:\n",
    "    addresses.add(organization['address'])\n",
    "\n",
    "addresses.remove('')\n",
    "\n",
    "osm_data = {\n",
    "        \"value\": {\n",
    "            \"total\": 0,\n",
    "            \"size\": 0,\n",
    "            \"language\": \"en\",\n",
    "            \"data\": []\n",
    "        }\n",
    "    }\n",
    "tags_to_use = {'addr:city',\n",
    "               'addr:country',\n",
    "               'addr:housenumber',\n",
    "               'addr:postcode',\n",
    "               'addr:street',\n",
    "               'alt_name',\n",
    "               'amenity',\n",
    "               'email',\n",
    "               'long_name',\n",
    "               'name',\n",
    "               'name:en',\n",
    "               'name:it',\n",
    "               'old_name',\n",
    "               'opening_hours',\n",
    "               'phone',\n",
    "               'short_name',\n",
    "               'website',\n",
    "               'wheelchair'}\n",
    "for address in addresses:\n",
    "    info = get_address_information(address)\n",
    "    tags = {}\n",
    "    if bool(info):\n",
    "        for tag in tags_to_use:\n",
    "            tags[tag] = info['elements'][0]['tags'][tag] if tag in info['elements'][0]['tags'] else ''\n",
    "        tags['timestamp'] = info['elements'][0]['timestamp']\n",
    "    append_data(osm_data, {'address': address, 'osm_tags': tags})\n",
    "    time.sleep(1.5)\n",
    "set_total_size(osm_data)\n",
    "save_dataset(osm_data, 'generated/buildings', 'json')\n"
   ]
  }
 ],
 "metadata": {
  "kernelspec": {
   "display_name": "base",
   "language": "python",
   "name": "python3"
  },
  "language_info": {
   "codemirror_mode": {
    "name": "ipython",
    "version": 3
   },
   "file_extension": ".py",
   "mimetype": "text/x-python",
   "name": "python",
   "nbconvert_exporter": "python",
   "pygments_lexer": "ipython3",
   "version": "3.9.7 (default, Sep 16 2021, 16:59:28) [MSC v.1916 64 bit (AMD64)]"
  },
  "orig_nbformat": 4,
  "vscode": {
   "interpreter": {
    "hash": "d11d5ba9fe4446fc540f97500dc098ff60833f4cf89c243c63a6d1251da9f9dd"
   }
  }
 },
 "nbformat": 4,
 "nbformat_minor": 2
}
