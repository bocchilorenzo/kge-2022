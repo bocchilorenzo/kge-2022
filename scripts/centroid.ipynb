{
 "cells": [
  {
   "cell_type": "code",
   "execution_count": 3,
   "metadata": {},
   "outputs": [],
   "source": [
    "import numpy as np"
   ]
  },
  {
   "cell_type": "code",
   "execution_count": 4,
   "metadata": {},
   "outputs": [],
   "source": [
    "def centeroidnp(arr):\n",
    "    length = arr.shape[0]\n",
    "    sum_x = np.sum(arr[:, 0])\n",
    "    sum_y = np.sum(arr[:, 1])\n",
    "    return sum_x/length, sum_y/length"
   ]
  },
  {
   "cell_type": "code",
   "execution_count": 16,
   "metadata": {},
   "outputs": [
    {
     "data": {
      "text/plain": [
       "(11.126573216666666, 46.06267326666667)"
      ]
     },
     "execution_count": 16,
     "metadata": {},
     "output_type": "execute_result"
    }
   ],
   "source": [
    "coord_university = {\n",
    "    \"Centro Agricoltura, Alimenti e Ambiente\": [11.1339596, 46.1918574],\n",
    "    \"Centro di Biologia Integrata\": [11.1480535, 46.0681829],\n",
    "    \"Dipartimento di Fisica\": [11.148685, 46.0656122],\n",
    "    \"Dipartimento di Matematica\": [11.1487572, 46.0655259],\n",
    "    \"Dipartimento di Ingegneria e Scienza dell'Informazione\": [11.1481093, 46.0668994],\n",
    "    \"Dipartimento di Ingegneria Industriale\": [11.1481959, 46.0683507],\n",
    "    \"Dipartimento di Ingegneria Civile, Ambientale e Meccanica\": [11.1367863, 46.0649087],\n",
    "    \"Facoltà di Giurisprudenza\": [11.1174656, 46.0668275],\n",
    "    \"Dipartimento di Sociologia e Ricerca Sociale\": [11.1173229, 46.0666143],\n",
    "    \"Dipartimento di Economia e Management\": [11.1155055, 46.0662577],\n",
    "    \"Dipartimento di Psicologia e Scienze Cognitive\": [11.0412101, 45.8936531],\n",
    "    \"Dipartimento di Lettere e Filosofia\": [11.1148277, 46.0673894]\n",
    "}\n",
    "data = np.array([coord_university[department] for department in [*coord_university]])\n",
    "centeroidnp(data)"
   ]
  },
  {
   "cell_type": "code",
   "execution_count": 19,
   "metadata": {},
   "outputs": [
    {
     "name": "stdout",
     "output_type": "stream",
     "text": [
      "Centro Agricoltura, Alimenti e Ambiente & 46.1918574 & 11.1339596 \\\\ \\hline\n",
      "Centro di Biologia Integrata & 46.0681829 & 11.1480535 \\\\ \\hline\n",
      "Dipartimento di Fisica & 46.0656122 & 11.148685 \\\\ \\hline\n",
      "Dipartimento di Matematica & 46.0655259 & 11.1487572 \\\\ \\hline\n",
      "Dipartimento di Ingegneria e Scienza dell'Informazione & 46.0668994 & 11.1481093 \\\\ \\hline\n",
      "Dipartimento di Ingegneria Industriale & 46.0683507 & 11.1481959 \\\\ \\hline\n",
      "Dipartimento di Ingegneria Civile, Ambientale e Meccanica & 46.0649087 & 11.1367863 \\\\ \\hline\n",
      "Facoltà di Giurisprudenza & 46.0668275 & 11.1174656 \\\\ \\hline\n",
      "Dipartimento di Sociologia e Ricerca Sociale & 46.0666143 & 11.1173229 \\\\ \\hline\n",
      "Dipartimento di Economia e Management & 46.0662577 & 11.1155055 \\\\ \\hline\n",
      "Dipartimento di Psicologia e Scienze Cognitive & 45.8936531 & 11.0412101 \\\\ \\hline\n",
      "Dipartimento di Lettere e Filosofia & 46.0673894 & 11.1148277 \\\\ \\hline\n"
     ]
    }
   ],
   "source": [
    "for department in [*coord_university]:\n",
    "    print(f\"{department} & {coord_university[department][1]} & {coord_university[department][0]} \\\\\\ \\hline\")"
   ]
  }
 ],
 "metadata": {
  "kernelspec": {
   "display_name": "kge",
   "language": "python",
   "name": "python3"
  },
  "language_info": {
   "codemirror_mode": {
    "name": "ipython",
    "version": 3
   },
   "file_extension": ".py",
   "mimetype": "text/x-python",
   "name": "python",
   "nbconvert_exporter": "python",
   "pygments_lexer": "ipython3",
   "version": "3.10.8 | packaged by conda-forge | (main, Nov 24 2022, 14:07:00) [MSC v.1916 64 bit (AMD64)]"
  },
  "orig_nbformat": 4,
  "vscode": {
   "interpreter": {
    "hash": "d85dd87b8dc0a8f9011f9eda27120c473a60c7e20456023d21f830d77f78c344"
   }
  }
 },
 "nbformat": 4,
 "nbformat_minor": 2
}
