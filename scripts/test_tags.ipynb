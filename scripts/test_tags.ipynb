{
 "cells": [
  {
   "cell_type": "code",
   "execution_count": 1,
   "metadata": {},
   "outputs": [],
   "source": [
    "import json"
   ]
  },
  {
   "cell_type": "code",
   "execution_count": 2,
   "metadata": {},
   "outputs": [],
   "source": [
    "buildings = {}\n",
    "with open('../datasets/buildings.json', 'r', encoding='utf-8') as f:\n",
    "    buildings = json.load(f)"
   ]
  },
  {
   "cell_type": "code",
   "execution_count": 7,
   "metadata": {},
   "outputs": [],
   "source": [
    "buildings = buildings['value']['data']"
   ]
  },
  {
   "cell_type": "code",
   "execution_count": 180,
   "metadata": {},
   "outputs": [
    {
     "data": {
      "text/plain": [
       "{'addr:city',\n",
       " 'addr:country',\n",
       " 'addr:housenumber',\n",
       " 'addr:postcode',\n",
       " 'addr:street',\n",
       " 'alt_name',\n",
       " 'amenity',\n",
       " 'building',\n",
       " 'contact:instagram',\n",
       " 'email',\n",
       " 'fixme',\n",
       " 'healthcare',\n",
       " 'highway',\n",
       " 'isced:level',\n",
       " 'lanes',\n",
       " 'lit',\n",
       " 'long_name',\n",
       " 'maxspeed',\n",
       " 'name',\n",
       " 'name:en',\n",
       " 'name:it',\n",
       " 'old_name',\n",
       " 'oneway',\n",
       " 'opening_hours',\n",
       " 'operator',\n",
       " 'parking:condition:left',\n",
       " 'parking:condition:right',\n",
       " 'parking:lane:both',\n",
       " 'parking:lane:left',\n",
       " 'parking:lane:right',\n",
       " 'phone',\n",
       " 'short_name',\n",
       " 'source:maxspeed',\n",
       " 'surface',\n",
       " 'timestamp',\n",
       " 'website',\n",
       " 'wheelchair'}"
      ]
     },
     "execution_count": 180,
     "metadata": {},
     "output_type": "execute_result"
    }
   ],
   "source": [
    "tags = set()\n",
    "for b in buildings:\n",
    "    if bool(b['osm_tags']):\n",
    "        for tag in [*b['osm_tags']]:\n",
    "            tags.add(tag)\n",
    "tags"
   ]
  },
  {
   "cell_type": "code",
   "execution_count": null,
   "metadata": {},
   "outputs": [],
   "source": [
    "{'addr:city',\n",
    " 'addr:country',\n",
    " 'addr:housenumber',\n",
    " 'addr:postcode',\n",
    " 'addr:street',\n",
    " 'alt_name',\n",
    " 'amenity',\n",
    " #'building',\n",
    " #'contact:instagram',\n",
    " 'email',\n",
    " #'fixme',\n",
    " #'healthcare',\n",
    " #'highway',\n",
    " #'isced:level',\n",
    " #'lanes',\n",
    " #'lit',\n",
    " 'long_name',\n",
    " #'maxspeed',\n",
    " 'name',\n",
    " 'name:en',\n",
    " 'name:it',\n",
    " 'old_name',\n",
    " #'oneway',\n",
    " 'opening_hours',\n",
    " #'operator',\n",
    " #'parking:condition:left',\n",
    " #'parking:condition:right',\n",
    " #'parking:lane:both',\n",
    " #'parking:lane:left',\n",
    " #'parking:lane:right',\n",
    " 'phone',\n",
    " 'short_name',\n",
    " #'source:maxspeed',\n",
    " #'surface',\n",
    " 'timestamp',\n",
    " 'website',\n",
    " 'wheelchair'}"
   ]
  }
 ],
 "metadata": {
  "kernelspec": {
   "display_name": "base",
   "language": "python",
   "name": "python3"
  },
  "language_info": {
   "codemirror_mode": {
    "name": "ipython",
    "version": 3
   },
   "file_extension": ".py",
   "mimetype": "text/x-python",
   "name": "python",
   "nbconvert_exporter": "python",
   "pygments_lexer": "ipython3",
   "version": "3.9.7 (default, Sep 16 2021, 16:59:28) [MSC v.1916 64 bit (AMD64)]"
  },
  "orig_nbformat": 4,
  "vscode": {
   "interpreter": {
    "hash": "d11d5ba9fe4446fc540f97500dc098ff60833f4cf89c243c63a6d1251da9f9dd"
   }
  }
 },
 "nbformat": 4,
 "nbformat_minor": 2
}
