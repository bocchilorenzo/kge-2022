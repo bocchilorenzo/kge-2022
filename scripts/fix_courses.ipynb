{
 "cells": [
  {
   "cell_type": "code",
   "execution_count": 7,
   "metadata": {},
   "outputs": [],
   "source": [
    "import json\n",
    "from os import path, makedirs\n",
    "import uuid"
   ]
  },
  {
   "cell_type": "code",
   "execution_count": 5,
   "metadata": {},
   "outputs": [],
   "source": [
    "def initialize_dataset():\n",
    "    \"\"\"\n",
    "    Return an object to use for inizialization of a new dataset.\n",
    "\n",
    "    :return: Initial dictionary for any dataset\n",
    "    \"\"\"\n",
    "    return {\n",
    "        \"value\": {\n",
    "            \"total\": 0,\n",
    "            \"size\": 0,\n",
    "            \"language\": \"en\",\n",
    "            \"data\": []\n",
    "        }\n",
    "    }\n",
    "\n",
    "\n",
    "def append_data(dataset, to_append):\n",
    "    \"\"\"\n",
    "    Utility function to mask away some code and make it more readable\n",
    "\n",
    "    :param dataset: Dataset to append data to\n",
    "    :param to_append: Data to append\n",
    "    \"\"\"\n",
    "    dataset['value']['data'].append(to_append)\n",
    "\n",
    "\n",
    "def save_dataset(dataset, name, file_format):\n",
    "    \"\"\"\n",
    "    Save the dataset given in input\n",
    "\n",
    "    :param dataset: Dataset to save\n",
    "    :param name: Name of the dataset\n",
    "    :param file_format: Format the dataset should be saved in\n",
    "    \"\"\"\n",
    "    filename = f'../datasets/{name}.{file_format}'\n",
    "    makedirs(path.dirname(filename), exist_ok=True)\n",
    "    with open(filename, 'w', encoding='utf-8') as f:\n",
    "        if file_format == 'json':\n",
    "            json.dump(dataset, f, indent=2)\n",
    "\n",
    "\n",
    "def set_total_size(dataset):\n",
    "    \"\"\"\n",
    "    Sets the values of the 'total' and 'size' fields in a dictionary\n",
    "\n",
    "    :param dataset: Dataset to manipulate\n",
    "    \"\"\"\n",
    "    dataset['value']['total'] = len(dataset['value']['data'])\n",
    "    dataset['value']['size'] = len(dataset['value']['data'])\n"
   ]
  },
  {
   "cell_type": "code",
   "execution_count": 8,
   "metadata": {},
   "outputs": [],
   "source": [
    "with open('../datasets/generated/course.json', encoding='utf-8') as f:\n",
    "    phd_ids = set()\n",
    "    with open(\"../datasets/formal_modeling/phd_student.json\", encoding='utf-8') as f2:\n",
    "        phd_students = json.load(f2)['value']['data']\n",
    "        for phd in phd_students:\n",
    "            phd_ids.add(phd['id'])\n",
    "    \n",
    "    old_course_data = json.load(f)['value']\n",
    "    degree_program = initialize_dataset()\n",
    "    deg_prog_lookup = {}\n",
    "    course = initialize_dataset()\n",
    "\n",
    "    for c in old_course_data['data']:\n",
    "        if c['degreeProgram'] not in deg_prog_lookup:\n",
    "            to_add = {'id': uuid.uuid4().hex, 'name': c['degreeProgram']}\n",
    "            append_data(degree_program, to_add)\n",
    "            deg_prog_lookup[to_add['name']] = to_add['id']\n",
    "            c['degreeProgramId'] = to_add['id']\n",
    "        else:\n",
    "            c['degreeProgramId'] = deg_prog_lookup[c['degreeProgram']]\n",
    "\n",
    "        del c['degreeProgram']\n",
    "        if c['assistantId'] in phd_ids:\n",
    "            c['assistant_phd'] = c['assistantId']\n",
    "            c['assistant_professor'] = \"\"\n",
    "        else:\n",
    "            c['assistant_professor'] = c['assistantId']\n",
    "            c['assistant_phd'] = \"\"\n",
    "        del c['assistantId']\n",
    "        append_data(course, c)\n",
    "\n",
    "    set_total_size(degree_program)\n",
    "    set_total_size(course)\n",
    "\n",
    "    save_dataset(degree_program, 'formal_modeling/degree_program', 'json')\n",
    "    save_dataset(course, 'formal_modeling/course', 'json')"
   ]
  }
 ],
 "metadata": {
  "kernelspec": {
   "display_name": "kge",
   "language": "python",
   "name": "python3"
  },
  "language_info": {
   "codemirror_mode": {
    "name": "ipython",
    "version": 3
   },
   "file_extension": ".py",
   "mimetype": "text/x-python",
   "name": "python",
   "nbconvert_exporter": "python",
   "pygments_lexer": "ipython3",
   "version": "3.10.8"
  },
  "orig_nbformat": 4,
  "vscode": {
   "interpreter": {
    "hash": "d85dd87b8dc0a8f9011f9eda27120c473a60c7e20456023d21f830d77f78c344"
   }
  }
 },
 "nbformat": 4,
 "nbformat_minor": 2
}
