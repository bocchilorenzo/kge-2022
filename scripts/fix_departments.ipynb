{
 "cells": [
  {
   "cell_type": "code",
   "execution_count": 5,
   "metadata": {},
   "outputs": [],
   "source": [
    "import json\n",
    "from os import path, makedirs"
   ]
  },
  {
   "cell_type": "code",
   "execution_count": 7,
   "metadata": {},
   "outputs": [],
   "source": [
    "def initialize_dataset():\n",
    "    \"\"\"\n",
    "    Return an object to use for inizialization of a new dataset.\n",
    "\n",
    "    :return: Initial dictionary for any dataset\n",
    "    \"\"\"\n",
    "    return {\n",
    "        \"value\": {\n",
    "            \"total\": 0,\n",
    "            \"size\": 0,\n",
    "            \"language\": \"en\",\n",
    "            \"data\": []\n",
    "        }\n",
    "    }\n",
    "\n",
    "\n",
    "def append_data(dataset, to_append):\n",
    "    \"\"\"\n",
    "    Utility function to mask away some code and make it more readable\n",
    "\n",
    "    :param dataset: Dataset to append data to\n",
    "    :param to_append: Data to append\n",
    "    \"\"\"\n",
    "    dataset['value']['data'].append(to_append)\n",
    "\n",
    "\n",
    "def save_dataset(dataset, name, file_format):\n",
    "    \"\"\"\n",
    "    Save the dataset given in input\n",
    "\n",
    "    :param dataset: Dataset to save\n",
    "    :param name: Name of the dataset\n",
    "    :param file_format: Format the dataset should be saved in\n",
    "    \"\"\"\n",
    "    filename = f'../datasets/{name}.{file_format}'\n",
    "    makedirs(path.dirname(filename), exist_ok=True)\n",
    "    with open(filename, 'w', encoding='utf-8') as f:\n",
    "        if file_format == 'json':\n",
    "            json.dump(dataset, f, indent=2)\n",
    "\n",
    "\n",
    "def set_total_size(dataset):\n",
    "    \"\"\"\n",
    "    Sets the values of the 'total' and 'size' fields in a dictionary\n",
    "\n",
    "    :param dataset: Dataset to manipulate\n",
    "    \"\"\"\n",
    "    dataset['value']['total'] = len(dataset['value']['data'])\n",
    "    dataset['value']['size'] = len(dataset['value']['data'])\n",
    "\n",
    "def extract_departments(subjects):\n",
    "    \"\"\"\n",
    "    Create a dictionary with all the departments in the University of Trento\n",
    "\n",
    "    :param subjects: Json file of courses in italian\n",
    "    :param subjects_english: Json file of courses in english\n",
    "    :return: A dictionary with the departments\n",
    "    \"\"\"\n",
    "    print(\"Extracting all departments...\")\n",
    "    departments = initialize_dataset()\n",
    "    already_added = set()\n",
    "    for course in subjects['value']['data']:\n",
    "        for department in course['department']:\n",
    "            if department['unitId'] not in already_added:\n",
    "                append_data(departments, {\n",
    "                    'id': department['unitId'],\n",
    "                    'name': department['unitName']\n",
    "                })\n",
    "                already_added.add(department['unitId'])\n",
    "    del already_added\n",
    "    departments['value']['total'] = len(departments['value']['data'])\n",
    "    departments['value']['size'] = len(departments['value']['data'])\n",
    "\n",
    "    return departments"
   ]
  },
  {
   "cell_type": "code",
   "execution_count": 8,
   "metadata": {},
   "outputs": [
    {
     "name": "stdout",
     "output_type": "stream",
     "text": [
      "Extracting all departments...\n"
     ]
    }
   ],
   "source": [
    "with open(\"../datasets/original/course_en.json\", 'r', encoding='utf-8') as fp:\n",
    "    courses = json.load(fp)\n",
    "departments = extract_departments(courses)\n",
    "save_dataset(departments, 'generated/departments', 'json')"
   ]
  }
 ],
 "metadata": {
  "kernelspec": {
   "display_name": "base",
   "language": "python",
   "name": "python3"
  },
  "language_info": {
   "codemirror_mode": {
    "name": "ipython",
    "version": 3
   },
   "file_extension": ".py",
   "mimetype": "text/x-python",
   "name": "python",
   "nbconvert_exporter": "python",
   "pygments_lexer": "ipython3",
   "version": "3.9.7"
  },
  "orig_nbformat": 4,
  "vscode": {
   "interpreter": {
    "hash": "d11d5ba9fe4446fc540f97500dc098ff60833f4cf89c243c63a6d1251da9f9dd"
   }
  }
 },
 "nbformat": 4,
 "nbformat_minor": 2
}
