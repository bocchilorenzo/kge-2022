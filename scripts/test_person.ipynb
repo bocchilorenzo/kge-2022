{
 "cells": [
  {
   "cell_type": "code",
   "execution_count": 6,
   "metadata": {},
   "outputs": [],
   "source": [
    "import json\n",
    "from os import makedirs, path\n",
    "from copy import deepcopy"
   ]
  },
  {
   "cell_type": "code",
   "execution_count": 4,
   "metadata": {},
   "outputs": [],
   "source": [
    "def clean_string(input_string, mode = None):\n",
    "    \"\"\"\n",
    "    Utility function to clean the input string.\n",
    "    The filters are chosen by hand when scraping the values.\n",
    "    NOTE: Only add filters, don't remove them\n",
    "\n",
    "    :param input_string: String to be cleaned\n",
    "    :param mode: Useful to avoid adding spaces in case of select fields\n",
    "    :return: Cleaned string\n",
    "    \"\"\"\n",
    "    return input_string.strip().replace(u\"\\xa0â€‹\", \"\").replace(u\"â€‹\", \"\").replace(u\"\\n\", \"\").replace(u\"\\t\", \"\").replace(u\"\\xa0\", \" \" if (mode and mode == 'prof') else \"\").replace(u\"\\u200b\", \"\").replace(u\"\\u00e0\", \"à\")\n",
    "\n",
    "\n",
    "def initialize_dataset():\n",
    "    \"\"\"\n",
    "    Return an object to use for inizialization of a new dataset.\n",
    "\n",
    "    :return: Initial dictionary for any dataset\n",
    "    \"\"\"\n",
    "    return {\n",
    "        \"value\": {\n",
    "            \"total\": 0,\n",
    "            \"size\": 0,\n",
    "            \"language\": \"en\",\n",
    "            \"data\": []\n",
    "        }\n",
    "    }\n",
    "\n",
    "\n",
    "def append_data(dataset, to_append):\n",
    "    \"\"\"\n",
    "    Utility function to mask away some code and make it more readable\n",
    "\n",
    "    :param dataset: Dataset to append data to\n",
    "    :param to_append: Data to append\n",
    "    \"\"\"\n",
    "    dataset['value']['data'].append(to_append)\n",
    "\n",
    "\n",
    "def save_dataset(dataset, name, file_format):\n",
    "    \"\"\"\n",
    "    Save the dataset given in input\n",
    "\n",
    "    :param dataset: Dataset to save\n",
    "    :param name: Name of the dataset\n",
    "    :param file_format: Format the dataset should be saved in\n",
    "    \"\"\"\n",
    "    filename = f'../datasets/{name}.{file_format}'\n",
    "    makedirs(path.dirname(filename), exist_ok=True)\n",
    "    with open(filename, 'w', encoding='utf-8') as f:\n",
    "        if file_format == 'json':\n",
    "            json.dump(dataset, f, indent=2)\n",
    "\n",
    "\n",
    "def set_total_size(dataset):\n",
    "    \"\"\"\n",
    "    Sets the values of the 'total' and 'size' fields in a dictionary\n",
    "\n",
    "    :param dataset: Dataset to manipulate\n",
    "    \"\"\"\n",
    "    dataset['value']['total'] = len(dataset['value']['data'])\n",
    "    dataset['value']['size'] = len(dataset['value']['data'])\n"
   ]
  },
  {
   "cell_type": "code",
   "execution_count": 15,
   "metadata": {},
   "outputs": [],
   "source": [
    "with open('../datasets/original/person_en.json', 'r') as f:\n",
    "    persons = json.load(f)"
   ]
  },
  {
   "cell_type": "code",
   "execution_count": 16,
   "metadata": {},
   "outputs": [],
   "source": [
    "person_dataset = initialize_dataset()\n",
    "for person in persons['value']['data']:\n",
    "    person['id'] = person['identifier']\n",
    "    del person['identifier']\n",
    "\n",
    "    for position in person['position']:\n",
    "        to_append = deepcopy(person)\n",
    "        to_append['role'] = position['role']\n",
    "        to_append['departmentId'] = position['unitId']\n",
    "        to_append['phoneNumber'] = \"\"\n",
    "        del to_append['position'], to_append['phone']\n",
    "\n",
    "        append_data(person_dataset, to_append)\n",
    "    \n",
    "    if len(person['phone']) > 0:\n",
    "        for phone in person['phone']:\n",
    "            to_append = deepcopy(person)\n",
    "            to_append['phoneNumber'] = phone\n",
    "            to_append['role'] = ''\n",
    "            to_append['departmentId'] = ''\n",
    "            del to_append['position'], to_append['phone']\n",
    "\n",
    "            append_data(person_dataset, to_append)\n",
    "\n",
    "set_total_size(person_dataset)\n",
    "\n",
    "save_dataset(person_dataset, 'generated/person_en_final', 'json')"
   ]
  }
 ],
 "metadata": {
  "kernelspec": {
   "display_name": "base",
   "language": "python",
   "name": "python3"
  },
  "language_info": {
   "codemirror_mode": {
    "name": "ipython",
    "version": 3
   },
   "file_extension": ".py",
   "mimetype": "text/x-python",
   "name": "python",
   "nbconvert_exporter": "python",
   "pygments_lexer": "ipython3",
   "version": "3.9.7"
  },
  "orig_nbformat": 4,
  "vscode": {
   "interpreter": {
    "hash": "d11d5ba9fe4446fc540f97500dc098ff60833f4cf89c243c63a6d1251da9f9dd"
   }
  }
 },
 "nbformat": 4,
 "nbformat_minor": 2
}
