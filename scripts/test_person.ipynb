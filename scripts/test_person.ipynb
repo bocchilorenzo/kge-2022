{
 "cells": [
  {
   "cell_type": "code",
   "execution_count": 9,
   "metadata": {},
   "outputs": [],
   "source": [
    "import json\n",
    "import uuid"
   ]
  },
  {
   "cell_type": "code",
   "execution_count": 4,
   "metadata": {},
   "outputs": [],
   "source": [
    "staff = {}\n",
    "with open('../datasets/person_en.json', 'r') as f:\n",
    "    staff = json.load(f)\n",
    "staff = staff['value']['data']"
   ]
  },
  {
   "cell_type": "code",
   "execution_count": 11,
   "metadata": {},
   "outputs": [],
   "source": [
    "def initialize_dataset():\n",
    "    \"\"\"\n",
    "    Return an object to use for inizialization of a new dataset.\n",
    "\n",
    "    :return: Initial dictionary for any dataset\n",
    "    \"\"\"\n",
    "    return {\n",
    "        \"value\": {\n",
    "            \"total\": 0,\n",
    "            \"size\": 0,\n",
    "            \"language\": \"en\",\n",
    "            \"data\": []\n",
    "        }\n",
    "    }\n",
    "roles_dataset = initialize_dataset()"
   ]
  },
  {
   "cell_type": "code",
   "execution_count": 8,
   "metadata": {},
   "outputs": [
    {
     "data": {
      "text/plain": [
       "{'identifier': '3d22af80edc6910656c3e49f5e8213b8',\n",
       " 'name': 'Maurizio',\n",
       " 'surname': 'Ferrari',\n",
       " 'phone': [],\n",
       " 'position': [{'role': 'Guest',\n",
       "   'unitName': 'Department of Physics',\n",
       "   'unitId': 'STO0008627'}]}"
      ]
     },
     "execution_count": 8,
     "metadata": {},
     "output_type": "execute_result"
    }
   ],
   "source": [
    "staff[0]"
   ]
  },
  {
   "cell_type": "code",
   "execution_count": 13,
   "metadata": {},
   "outputs": [],
   "source": [
    "roles_set = set()\n",
    "person_positions_dataset = initialize_dataset()\n",
    "for person in staff:\n",
    "    for position in person['position']:\n",
    "        role_id = uuid.uuid4().hex\n",
    "        if position['role'] not in roles_set:\n",
    "            roles_dataset['value']['data'].append({\n",
    "                'roleId': role_id,\n",
    "                'roleName': position['role']\n",
    "            })    \n",
    "            roles_set.add(position['role'])\n",
    "        person_positions_dataset['value']['data'].append({\n",
    "            'personId': person['identifier'],\n",
    "            'roleId': role_id,\n",
    "            'unitId': position['unitId']\n",
    "        })\n",
    "    del person['position']\n",
    "\n",
    "\n",
    "\n",
    "del roles_set"
   ]
  }
 ],
 "metadata": {
  "kernelspec": {
   "display_name": "base",
   "language": "python",
   "name": "python3"
  },
  "language_info": {
   "codemirror_mode": {
    "name": "ipython",
    "version": 3
   },
   "file_extension": ".py",
   "mimetype": "text/x-python",
   "name": "python",
   "nbconvert_exporter": "python",
   "pygments_lexer": "ipython3",
   "version": "3.9.7 (default, Sep 16 2021, 16:59:28) [MSC v.1916 64 bit (AMD64)]"
  },
  "orig_nbformat": 4,
  "vscode": {
   "interpreter": {
    "hash": "d11d5ba9fe4446fc540f97500dc098ff60833f4cf89c243c63a6d1251da9f9dd"
   }
  }
 },
 "nbformat": 4,
 "nbformat_minor": 2
}
