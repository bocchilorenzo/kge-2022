{
 "cells": [
  {
   "cell_type": "code",
   "execution_count": 1,
   "metadata": {},
   "outputs": [],
   "source": [
    "from os import makedirs, path\n",
    "import json\n",
    "import uuid"
   ]
  },
  {
   "cell_type": "code",
   "execution_count": 2,
   "metadata": {},
   "outputs": [],
   "source": [
    "with open('../datasets/original/course_en.json', 'r', encoding='utf-8') as fp:\n",
    "    courses = json.load(fp)"
   ]
  },
  {
   "cell_type": "code",
   "execution_count": 3,
   "metadata": {},
   "outputs": [],
   "source": [
    "def clean_string(input_string):\n",
    "    \"\"\"\n",
    "    Utility function to clean the input string.\n",
    "    The filters are chosen by hand when scraping the values.\n",
    "    NOTE: Only add filters, don't remove them\n",
    "\n",
    "    :param input_string: String to be cleaned\n",
    "    :return: Cleaned string\n",
    "    \"\"\"\n",
    "    return input_string.strip().replace(u\"\\xa0â€‹\", \"\").replace(u\"â€‹\", \"\").replace(u\"\\n\", \"\").replace(u\"\\t\", \"\").replace(u\"\\xa0\", u\" \").replace(u\"\\u200b\", \"\").replace(u\"\\u00e0\", \"à\")\n",
    "\n",
    "\n",
    "def initialize_dataset():\n",
    "    \"\"\"\n",
    "    Return an object to use for inizialization of a new dataset.\n",
    "\n",
    "    :return: Initial dictionary for any dataset\n",
    "    \"\"\"\n",
    "    return {\n",
    "        \"value\": {\n",
    "            \"total\": 0,\n",
    "            \"size\": 0,\n",
    "            \"language\": \"en\",\n",
    "            \"data\": []\n",
    "        }\n",
    "    }\n",
    "\n",
    "\n",
    "def append_data(dataset, to_append):\n",
    "    \"\"\"\n",
    "    Utility function to mask away some code and make it more readable\n",
    "\n",
    "    :param dataset: Dataset to append data to\n",
    "    :param to_append: Data to append\n",
    "    \"\"\"\n",
    "    dataset['value']['data'].append(to_append)\n",
    "\n",
    "\n",
    "def save_dataset(dataset, name, file_format):\n",
    "    \"\"\"\n",
    "    Save the dataset given in input\n",
    "\n",
    "    :param dataset: Dataset to save\n",
    "    :param name: Name of the dataset\n",
    "    :param file_format: Format the dataset should be saved in\n",
    "    \"\"\"\n",
    "    filename = f'./datasets/{name}.{file_format}'\n",
    "    makedirs(path.dirname(filename), exist_ok=True)\n",
    "    with open(filename, 'w', encoding='utf-8') as f:\n",
    "        if file_format == 'json':\n",
    "            json.dump(dataset, f, indent=2)\n",
    "\n",
    "\n",
    "def set_total_size(dataset):\n",
    "    \"\"\"\n",
    "    Sets the values of the 'total' and 'size' fields in a dictionary\n",
    "\n",
    "    :param dataset: Dataset to manipulate\n",
    "    \"\"\"\n",
    "    dataset['value']['total'] = len(dataset['value']['data'])\n",
    "    dataset['value']['size'] = len(dataset['value']['data'])\n"
   ]
  },
  {
   "cell_type": "code",
   "execution_count": 37,
   "metadata": {},
   "outputs": [
    {
     "name": "stdout",
     "output_type": "stream",
     "text": [
      "{'value': {'total': 0, 'size': 0, 'language': 'en', 'data': [{'partitionId': '37d87fb889394df087c23e65fa01b6ca', 'professorId': '26ddd5336d198053e6cffad8ffe2862f', 'tenured': False}, {'partitionId': '37d87fb889394df087c23e65fa01b6ca', 'professorId': '7cc92da07568a577d6b2682d602350e5', 'tenured': True}]}}\n"
     ]
    }
   ],
   "source": [
    "information, partitions, teaching_units = scrape_esse3(courses['value']['data'][0]['webSite'])\n",
    "\n",
    "partition_professors_dataset = initialize_dataset()\n",
    "for partition in partitions:\n",
    "    for i in range(len(partition['teacher']['name'])):\n",
    "        for j in range(len(courses['value']['data'][0]['professor'])):\n",
    "            if \" \".join([\n",
    "                courses['value']['data'][0]['professor'][j]['name'],\n",
    "                courses['value']['data'][0]['professor'][j]['surname']\n",
    "                ]).lower() == partition['teacher']['name'][i].lower():\n",
    "                append_data(partition_professors_dataset, {\n",
    "                    'partitionId': partition['id'],\n",
    "                    'professorId': courses['value']['data'][0]['professor'][j]['id'],\n",
    "                    'tenured': partition['teacher']['tenured'][i]\n",
    "                })\n",
    "del partition['teacher']\n",
    "print(partition_professors_dataset)"
   ]
  }
 ],
 "metadata": {
  "kernelspec": {
   "display_name": "base",
   "language": "python",
   "name": "python3"
  },
  "language_info": {
   "codemirror_mode": {
    "name": "ipython",
    "version": 3
   },
   "file_extension": ".py",
   "mimetype": "text/x-python",
   "name": "python",
   "nbconvert_exporter": "python",
   "pygments_lexer": "ipython3",
   "version": "3.9.7"
  },
  "orig_nbformat": 4,
  "vscode": {
   "interpreter": {
    "hash": "d11d5ba9fe4446fc540f97500dc098ff60833f4cf89c243c63a6d1251da9f9dd"
   }
  }
 },
 "nbformat": 4,
 "nbformat_minor": 2
}
