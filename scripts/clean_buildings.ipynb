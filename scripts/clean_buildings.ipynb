{
 "cells": [
  {
   "cell_type": "code",
   "execution_count": 1,
   "metadata": {},
   "outputs": [],
   "source": [
    "from requests import request\n",
    "import json\n",
    "from os import makedirs, path\n",
    "from geopy.geocoders import Nominatim"
   ]
  },
  {
   "cell_type": "code",
   "execution_count": 2,
   "metadata": {},
   "outputs": [],
   "source": [
    "with open(\"../datasets/generated/buildings.json\", 'r') as fp:\n",
    "    buildings = json.load(fp)"
   ]
  },
  {
   "cell_type": "code",
   "execution_count": 3,
   "metadata": {},
   "outputs": [],
   "source": [
    "def save_dataset(dataset, name, file_format):\n",
    "    \"\"\"\n",
    "    Save the dataset given in input\n",
    "\n",
    "    :param dataset: Dataset to save\n",
    "    :param name: Name of the dataset\n",
    "    :param file_format: Format the dataset should be saved in\n",
    "    \"\"\"\n",
    "    filename = f'../datasets/{name}.{file_format}'\n",
    "    makedirs(path.dirname(filename), exist_ok=True)\n",
    "    with open(filename, 'w', encoding='utf-8') as f:\n",
    "        if file_format == 'json':\n",
    "            json.dump(dataset, f, indent=2)\n",
    "\n",
    "def set_total_size(dataset):\n",
    "    \"\"\"\n",
    "    Sets the values of the 'total' and 'size' fields in a dictionary\n",
    "\n",
    "    :param dataset: Dataset to manipulate\n",
    "    \"\"\"\n",
    "    dataset['value']['total'] = len(dataset['value']['data'])\n",
    "    dataset['value']['size'] = len(dataset['value']['data'])\n",
    "\n",
    "def get_address_information(address):\n",
    "    \"\"\"\n",
    "    Fetch and return the address information from OpenStreetMap\n",
    "\n",
    "    :param address: Address to look up in OSM\n",
    "    :return: Dictionary with the information for the input address\n",
    "    \"\"\"\n",
    "    # Check the Nominatim TOS before using this, it allows maximum 1 request per second\n",
    "    # https://operations.osmfoundation.org/policies/nominatim/\n",
    "    # Also check the OSM wiki regarding the API\n",
    "    # https://wiki.openstreetmap.org/wiki/API_v0.6\n",
    "    geolocator = Nominatim(\n",
    "        user_agent=\"Mozilla/5.0 (Windows NT 10.0; rv:105.0) Gecko/20100101 Firefox/105.0\")\n",
    "    query = geolocator.geocode(query=address)\n",
    "    print(geolocator.reverse([query.raw.get('lat'), query.raw.get('lon')]).raw)\n",
    "    if query:\n",
    "        r = request('get', f\"https://www.openstreetmap.org/api/0.6/way/{query.raw.get('osm_id')}.json\", headers={\n",
    "            'User-Agent': 'Mozilla/5.0 (Windows NT 10.0; rv:106.0) Gecko/20100101 Firefox/106.0'})\n",
    "        if r.ok:\n",
    "            return json.loads(r.text)\n",
    "        else:\n",
    "            return {}\n",
    "    else:\n",
    "        return {}\n",
    "\n",
    "def append_data(dataset, to_append):\n",
    "    \"\"\"\n",
    "    Utility function to mask away some code and make it more readable\n",
    "\n",
    "    :param dataset: Dataset to append data to\n",
    "    :param to_append: Data to append\n",
    "    \"\"\"\n",
    "    dataset['value']['data'].append(to_append)"
   ]
  },
  {
   "cell_type": "code",
   "execution_count": 4,
   "metadata": {},
   "outputs": [
    {
     "data": {
      "text/plain": [
       "['Via Calepina, 14, Trento, TN, Italia',\n",
       " 'Via Giuseppe Verdi, 7 38122 Trento TN',\n",
       " 'Via Giuseppe Verdi, 8, Trento, 38122 TN',\n",
       " 'Corso Bettini, 43 - 38068 Rovereto',\n",
       " 'Via Giuseppe Verdi, 6, Trento, TN',\n",
       " 'Via Calepina, 14, Trento, TN',\n",
       " 'Via Tomaso Gar, 14, Trento, TN',\n",
       " 'Via Calepina, 14, Trento, 38122 TN',\n",
       " \"Via Edmund Mach, 1, 38010 San Michele All'adige TN\",\n",
       " 'Via Calepina, 14 38122 Trento TN',\n",
       " 'Via M. del Ben, 5b, Rovereto, 38068 TN',\n",
       " 'Via Tomaso Gar, 14, 38122 Trento',\n",
       " 'Via Giuseppe Verdi, 6, Trento, 38122 TN',\n",
       " 'via Calepina, 14 - 38122 Trento',\n",
       " 'via S. Maria Maddalena, 1, 38122 Trento',\n",
       " 'Via Sommarive, 9, Povo, 38123 TN',\n",
       " 'Via Tomaso Gar, 14, Trento, 38122 TN',\n",
       " 'Corso Bettini, 31, Rovereto, 38068 TN']"
      ]
     },
     "execution_count": 4,
     "metadata": {},
     "output_type": "execute_result"
    }
   ],
   "source": [
    "problematic_addresses = [building['address'] for building in buildings['value']['data'] if not bool(building['osm_tags'])]\n",
    "\n",
    "i = 0\n",
    "while i < len(buildings['value']['data']):\n",
    "    if buildings['value']['data'][i]['address'] in problematic_addresses:\n",
    "        del buildings['value']['data'][i]\n",
    "    else:\n",
    "        i += 1\n",
    "problematic_addresses"
   ]
  },
  {
   "cell_type": "code",
   "execution_count": 6,
   "metadata": {},
   "outputs": [],
   "source": [
    "set_total_size(buildings)\n",
    "save_dataset(buildings, 'generated/buildings', 'json')"
   ]
  }
 ],
 "metadata": {
  "kernelspec": {
   "display_name": "base",
   "language": "python",
   "name": "python3"
  },
  "language_info": {
   "codemirror_mode": {
    "name": "ipython",
    "version": 3
   },
   "file_extension": ".py",
   "mimetype": "text/x-python",
   "name": "python",
   "nbconvert_exporter": "python",
   "pygments_lexer": "ipython3",
   "version": "3.9.7"
  },
  "orig_nbformat": 4,
  "vscode": {
   "interpreter": {
    "hash": "d11d5ba9fe4446fc540f97500dc098ff60833f4cf89c243c63a6d1251da9f9dd"
   }
  }
 },
 "nbformat": 4,
 "nbformat_minor": 2
}
