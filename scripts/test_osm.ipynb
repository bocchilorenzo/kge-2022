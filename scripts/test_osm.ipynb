{
 "cells": [
  {
   "cell_type": "code",
   "execution_count": 2,
   "metadata": {},
   "outputs": [],
   "source": [
    "from geopy.geocoders import Nominatim\n",
    "from requests import request\n",
    "import json"
   ]
  },
  {
   "cell_type": "code",
   "execution_count": 3,
   "metadata": {},
   "outputs": [
    {
     "data": {
      "text/plain": [
       "{'place_id': 214373660,\n",
       " 'licence': 'Data © OpenStreetMap contributors, ODbL 1.0. https://osm.org/copyright',\n",
       " 'osm_type': 'way',\n",
       " 'osm_id': 498953673,\n",
       " 'boundingbox': ['46.0732719', '46.073482', '11.1184726', '11.118842'],\n",
       " 'lat': '46.0733858',\n",
       " 'lon': '11.118665566745618',\n",
       " 'display_name': \"Piazza Valeria Solesin, Cristo Re, Vela, Trento, Territorio Val d'Adige, Provincia di Trento, Trentino-Alto Adige/Südtirol, Italia\",\n",
       " 'class': 'place',\n",
       " 'type': 'square',\n",
       " 'importance': 0.5349999999999999}"
      ]
     },
     "execution_count": 3,
     "metadata": {},
     "output_type": "execute_result"
    }
   ],
   "source": [
    "geolocator = Nominatim(user_agent=\"Mozilla/5.0 (Windows NT 10.0; rv:105.0) Gecko/20100101 Firefox/105.0\")\n",
    "q = geolocator.geocode(query='Piazza Valeria Solesin, 1, Trento')\n",
    "q.raw"
   ]
  },
  {
   "cell_type": "code",
   "execution_count": 10,
   "metadata": {},
   "outputs": [
    {
     "data": {
      "text/plain": [
       "{'version': '0.6',\n",
       " 'generator': 'CGImap 0.8.8 (1800641 spike-08.openstreetmap.org)',\n",
       " 'copyright': 'OpenStreetMap and contributors',\n",
       " 'attribution': 'http://www.openstreetmap.org/copyright',\n",
       " 'license': 'http://opendatacommons.org/licenses/odbl/1-0/',\n",
       " 'elements': [{'type': 'way',\n",
       "   'id': 24581559,\n",
       "   'timestamp': '2022-11-01T11:55:20Z',\n",
       "   'version': 7,\n",
       "   'changeset': 128341755,\n",
       "   'user': 'napo',\n",
       "   'uid': 20610,\n",
       "   'nodes': [265581227,\n",
       "    428644321,\n",
       "    3153965839,\n",
       "    3153965846,\n",
       "    3153965848,\n",
       "    428644334,\n",
       "    265581203,\n",
       "    2235776586,\n",
       "    265581204,\n",
       "    265581208,\n",
       "    265581209,\n",
       "    265581210,\n",
       "    265581211,\n",
       "    265581212,\n",
       "    265581213,\n",
       "    265581214,\n",
       "    265581215,\n",
       "    265581216,\n",
       "    265581217,\n",
       "    265581218,\n",
       "    265581221,\n",
       "    265581225,\n",
       "    265581227],\n",
       "   'tags': {'amenity': 'student_accommodation',\n",
       "    'name': 'Studentato San Bartolameo',\n",
       "    'operator': 'Opera Universitaria'}}]}"
      ]
     },
     "execution_count": 10,
     "metadata": {},
     "output_type": "execute_result"
    }
   ],
   "source": [
    "r = request('get', f\"https://www.openstreetmap.org/api/0.6/way/{q.raw.get('osm_id')}.json\", headers={\n",
    "            'User-Agent': 'Mozilla/5.0 (Windows NT 10.0; rv:106.0) Gecko/20100101 Firefox/106.0'})\n",
    "json.loads(r.text)"
   ]
  }
 ],
 "metadata": {
  "kernelspec": {
   "display_name": "Python 3.10.8 ('kge')",
   "language": "python",
   "name": "python3"
  },
  "language_info": {
   "codemirror_mode": {
    "name": "ipython",
    "version": 3
   },
   "file_extension": ".py",
   "mimetype": "text/x-python",
   "name": "python",
   "nbconvert_exporter": "python",
   "pygments_lexer": "ipython3",
   "version": "3.10.8"
  },
  "orig_nbformat": 4,
  "vscode": {
   "interpreter": {
    "hash": "d85dd87b8dc0a8f9011f9eda27120c473a60c7e20456023d21f830d77f78c344"
   }
  }
 },
 "nbformat": 4,
 "nbformat_minor": 2
}
