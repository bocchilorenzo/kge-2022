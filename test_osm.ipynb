{
 "cells": [
  {
   "cell_type": "code",
   "execution_count": 1,
   "metadata": {},
   "outputs": [],
   "source": [
    "from geopy.geocoders import Nominatim\n",
    "from requests import request\n",
    "import json"
   ]
  },
  {
   "cell_type": "code",
   "execution_count": 2,
   "metadata": {},
   "outputs": [
    {
     "data": {
      "text/plain": [
       "{'place_id': 163683151,\n",
       " 'licence': 'Data © OpenStreetMap contributors, ODbL 1.0. https://osm.org/copyright',\n",
       " 'osm_type': 'way',\n",
       " 'osm_id': 235635928,\n",
       " 'boundingbox': ['46.059181', '46.0596606', '11.1153325', '11.115837'],\n",
       " 'lat': '46.05948295',\n",
       " 'lon': '11.115553324533167',\n",
       " 'display_name': \"BUC - Biblioteca Universitaria Centrale, 3, Via Adalberto Libera, Clarina, Le Albere, Sardagna, Trento, Territorio Val d'Adige, Provincia di Trento, Trentino-Alto Adige/Südtirol, 38122, Italia\",\n",
       " 'class': 'amenity',\n",
       " 'type': 'library',\n",
       " 'importance': 0.5200999999999999,\n",
       " 'icon': 'https://nominatim.openstreetmap.org/ui/mapicons/amenity_library.p.20.png'}"
      ]
     },
     "execution_count": 2,
     "metadata": {},
     "output_type": "execute_result"
    }
   ],
   "source": [
    "geolocator = Nominatim(user_agent=\"Mozilla/5.0 (Windows NT 10.0; rv:105.0) Gecko/20100101 Firefox/105.0\")\n",
    "q = geolocator.geocode(query='Via Adalberto Libera, 3, Trento, TN')\n",
    "q.raw"
   ]
  },
  {
   "cell_type": "code",
   "execution_count": 4,
   "metadata": {},
   "outputs": [
    {
     "data": {
      "text/plain": [
       "{'version': '0.6',\n",
       " 'generator': 'CGImap 0.8.8 (91669 spike-06.openstreetmap.org)',\n",
       " 'copyright': 'OpenStreetMap and contributors',\n",
       " 'attribution': 'http://www.openstreetmap.org/copyright',\n",
       " 'license': 'http://opendatacommons.org/licenses/odbl/1-0/',\n",
       " 'elements': [{'type': 'way',\n",
       "   'id': 235635928,\n",
       "   'timestamp': '2021-10-29T21:38:05Z',\n",
       "   'version': 13,\n",
       "   'changeset': 113142468,\n",
       "   'user': 'JuaFritz',\n",
       "   'uid': 8445331,\n",
       "   'nodes': [2437097567,\n",
       "    4446398944,\n",
       "    4446398942,\n",
       "    4446398941,\n",
       "    4446398946,\n",
       "    2437097566,\n",
       "    2437097559,\n",
       "    4446398934,\n",
       "    6518911940,\n",
       "    6518911939,\n",
       "    2437097562,\n",
       "    4446398938,\n",
       "    6518911941,\n",
       "    2437097569,\n",
       "    2437097567],\n",
       "   'tags': {'addr:city': 'Trento',\n",
       "    'addr:housenumber': '3',\n",
       "    'addr:postcode': '38122',\n",
       "    'addr:street': 'Via Adalberto Libera',\n",
       "    'alt_name': 'Central Library',\n",
       "    'amenity': 'library',\n",
       "    'building': 'university',\n",
       "    'fixme': 'position',\n",
       "    'name': 'BUC - Biblioteca Universitaria Centrale',\n",
       "    'name:en': 'Central University Library',\n",
       "    'opening_hours': 'Mo-Sa 08:00-23:45; Su 14:00-20:45',\n",
       "    'phone': '+39 0461 283011',\n",
       "    'website': 'https://www.biblioteca.unitn.it/buc-biblioteca-universitaria-centrale',\n",
       "    'wheelchair': 'yes'}}]}"
      ]
     },
     "execution_count": 4,
     "metadata": {},
     "output_type": "execute_result"
    }
   ],
   "source": [
    "r = request('get', f\"https://www.openstreetmap.org/api/0.6/way/{q.raw.get('osm_id')}.json\", headers={\n",
    "            'User-Agent': 'Mozilla/5.0 (Windows NT 10.0; rv:106.0) Gecko/20100101 Firefox/106.0'})\n",
    "json.loads(r.text)"
   ]
  }
 ],
 "metadata": {
  "kernelspec": {
   "display_name": "base",
   "language": "python",
   "name": "python3"
  },
  "language_info": {
   "codemirror_mode": {
    "name": "ipython",
    "version": 3
   },
   "file_extension": ".py",
   "mimetype": "text/x-python",
   "name": "python",
   "nbconvert_exporter": "python",
   "pygments_lexer": "ipython3",
   "version": "3.9.7 (default, Sep 16 2021, 16:59:28) [MSC v.1916 64 bit (AMD64)]"
  },
  "orig_nbformat": 4,
  "vscode": {
   "interpreter": {
    "hash": "d11d5ba9fe4446fc540f97500dc098ff60833f4cf89c243c63a6d1251da9f9dd"
   }
  }
 },
 "nbformat": 4,
 "nbformat_minor": 2
}
